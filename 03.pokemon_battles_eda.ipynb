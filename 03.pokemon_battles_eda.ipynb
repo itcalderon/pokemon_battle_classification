{
 "cells": [
  {
   "cell_type": "markdown",
   "metadata": {},
   "source": [
    "# Pokemon Battle EDA #"
   ]
  },
  {
   "cell_type": "code",
   "execution_count": 68,
   "metadata": {},
   "outputs": [],
   "source": [
    "import pandas as pd\n",
    "import numpy as np\n",
    "import matplotlib.pyplot as plt\n",
    "%matplotlib inline\n",
    "import seaborn as sns\n",
    "sns.set_style(\"darkgrid\")\n",
    "pd.set_option('display.max_columns', 100)"
   ]
  },
  {
   "cell_type": "code",
   "execution_count": 69,
   "metadata": {},
   "outputs": [],
   "source": [
    "import scipy.stats as stats"
   ]
  },
  {
   "cell_type": "code",
   "execution_count": 70,
   "metadata": {
    "scrolled": false
   },
   "outputs": [
    {
     "name": "stdout",
     "output_type": "stream",
     "text": [
      "(50000, 35)\n"
     ]
    },
    {
     "data": {
      "text/html": [
       "<div>\n",
       "<style scoped>\n",
       "    .dataframe tbody tr th:only-of-type {\n",
       "        vertical-align: middle;\n",
       "    }\n",
       "\n",
       "    .dataframe tbody tr th {\n",
       "        vertical-align: top;\n",
       "    }\n",
       "\n",
       "    .dataframe thead th {\n",
       "        text-align: right;\n",
       "    }\n",
       "</style>\n",
       "<table border=\"1\" class=\"dataframe\">\n",
       "  <thead>\n",
       "    <tr style=\"text-align: right;\">\n",
       "      <th></th>\n",
       "      <th>id_p1</th>\n",
       "      <th>name_p1</th>\n",
       "      <th>type1_p1</th>\n",
       "      <th>type2_p1</th>\n",
       "      <th>hp_p1</th>\n",
       "      <th>atk_p1</th>\n",
       "      <th>def_p1</th>\n",
       "      <th>spatk_p1</th>\n",
       "      <th>spdef_p1</th>\n",
       "      <th>spd_p1</th>\n",
       "      <th>gen_p1</th>\n",
       "      <th>legendary_p1</th>\n",
       "      <th>type_combo_p1</th>\n",
       "      <th>two_type_p1</th>\n",
       "      <th>stat_total_p1</th>\n",
       "      <th>mega_p1</th>\n",
       "      <th>mega_leg_p1</th>\n",
       "      <th>id_p2</th>\n",
       "      <th>name_p2</th>\n",
       "      <th>type1_p2</th>\n",
       "      <th>type2_p2</th>\n",
       "      <th>hp_p2</th>\n",
       "      <th>atk_p2</th>\n",
       "      <th>def_p2</th>\n",
       "      <th>spatk_p2</th>\n",
       "      <th>spdef_p2</th>\n",
       "      <th>spd_p2</th>\n",
       "      <th>gen_p2</th>\n",
       "      <th>legendary_p2</th>\n",
       "      <th>type_combo_p2</th>\n",
       "      <th>two_type_p2</th>\n",
       "      <th>stat_total_p2</th>\n",
       "      <th>mega_p2</th>\n",
       "      <th>mega_leg_p2</th>\n",
       "      <th>p1_winner</th>\n",
       "    </tr>\n",
       "  </thead>\n",
       "  <tbody>\n",
       "    <tr>\n",
       "      <th>0</th>\n",
       "      <td>1</td>\n",
       "      <td>Bulbasaur</td>\n",
       "      <td>Grass</td>\n",
       "      <td>Poison</td>\n",
       "      <td>45</td>\n",
       "      <td>49</td>\n",
       "      <td>49</td>\n",
       "      <td>65</td>\n",
       "      <td>65</td>\n",
       "      <td>45</td>\n",
       "      <td>1</td>\n",
       "      <td>0</td>\n",
       "      <td>Grass-Poison</td>\n",
       "      <td>1</td>\n",
       "      <td>318</td>\n",
       "      <td>0</td>\n",
       "      <td>0</td>\n",
       "      <td>679</td>\n",
       "      <td>Accelgor</td>\n",
       "      <td>Bug</td>\n",
       "      <td>NaN</td>\n",
       "      <td>80</td>\n",
       "      <td>70</td>\n",
       "      <td>40</td>\n",
       "      <td>100</td>\n",
       "      <td>60</td>\n",
       "      <td>145</td>\n",
       "      <td>5</td>\n",
       "      <td>0</td>\n",
       "      <td>NaN</td>\n",
       "      <td>0</td>\n",
       "      <td>495</td>\n",
       "      <td>0</td>\n",
       "      <td>0</td>\n",
       "      <td>0</td>\n",
       "    </tr>\n",
       "    <tr>\n",
       "      <th>1</th>\n",
       "      <td>1</td>\n",
       "      <td>Bulbasaur</td>\n",
       "      <td>Grass</td>\n",
       "      <td>Poison</td>\n",
       "      <td>45</td>\n",
       "      <td>49</td>\n",
       "      <td>49</td>\n",
       "      <td>65</td>\n",
       "      <td>65</td>\n",
       "      <td>45</td>\n",
       "      <td>1</td>\n",
       "      <td>0</td>\n",
       "      <td>Grass-Poison</td>\n",
       "      <td>1</td>\n",
       "      <td>318</td>\n",
       "      <td>0</td>\n",
       "      <td>0</td>\n",
       "      <td>43</td>\n",
       "      <td>Vulpix</td>\n",
       "      <td>Fire</td>\n",
       "      <td>NaN</td>\n",
       "      <td>38</td>\n",
       "      <td>41</td>\n",
       "      <td>40</td>\n",
       "      <td>50</td>\n",
       "      <td>65</td>\n",
       "      <td>65</td>\n",
       "      <td>1</td>\n",
       "      <td>0</td>\n",
       "      <td>NaN</td>\n",
       "      <td>0</td>\n",
       "      <td>299</td>\n",
       "      <td>0</td>\n",
       "      <td>0</td>\n",
       "      <td>0</td>\n",
       "    </tr>\n",
       "    <tr>\n",
       "      <th>2</th>\n",
       "      <td>1</td>\n",
       "      <td>Bulbasaur</td>\n",
       "      <td>Grass</td>\n",
       "      <td>Poison</td>\n",
       "      <td>45</td>\n",
       "      <td>49</td>\n",
       "      <td>49</td>\n",
       "      <td>65</td>\n",
       "      <td>65</td>\n",
       "      <td>45</td>\n",
       "      <td>1</td>\n",
       "      <td>0</td>\n",
       "      <td>Grass-Poison</td>\n",
       "      <td>1</td>\n",
       "      <td>318</td>\n",
       "      <td>0</td>\n",
       "      <td>0</td>\n",
       "      <td>162</td>\n",
       "      <td>Dragonite</td>\n",
       "      <td>Dragon</td>\n",
       "      <td>Flying</td>\n",
       "      <td>91</td>\n",
       "      <td>134</td>\n",
       "      <td>95</td>\n",
       "      <td>100</td>\n",
       "      <td>100</td>\n",
       "      <td>80</td>\n",
       "      <td>1</td>\n",
       "      <td>0</td>\n",
       "      <td>Dragon-Flying</td>\n",
       "      <td>1</td>\n",
       "      <td>600</td>\n",
       "      <td>0</td>\n",
       "      <td>0</td>\n",
       "      <td>0</td>\n",
       "    </tr>\n",
       "    <tr>\n",
       "      <th>3</th>\n",
       "      <td>1</td>\n",
       "      <td>Bulbasaur</td>\n",
       "      <td>Grass</td>\n",
       "      <td>Poison</td>\n",
       "      <td>45</td>\n",
       "      <td>49</td>\n",
       "      <td>49</td>\n",
       "      <td>65</td>\n",
       "      <td>65</td>\n",
       "      <td>45</td>\n",
       "      <td>1</td>\n",
       "      <td>0</td>\n",
       "      <td>Grass-Poison</td>\n",
       "      <td>1</td>\n",
       "      <td>318</td>\n",
       "      <td>0</td>\n",
       "      <td>0</td>\n",
       "      <td>714</td>\n",
       "      <td>Keldeo Ordinary Forme</td>\n",
       "      <td>Water</td>\n",
       "      <td>Fighting</td>\n",
       "      <td>91</td>\n",
       "      <td>72</td>\n",
       "      <td>90</td>\n",
       "      <td>129</td>\n",
       "      <td>90</td>\n",
       "      <td>108</td>\n",
       "      <td>5</td>\n",
       "      <td>0</td>\n",
       "      <td>Water-Fighting</td>\n",
       "      <td>1</td>\n",
       "      <td>580</td>\n",
       "      <td>0</td>\n",
       "      <td>0</td>\n",
       "      <td>0</td>\n",
       "    </tr>\n",
       "    <tr>\n",
       "      <th>4</th>\n",
       "      <td>1</td>\n",
       "      <td>Bulbasaur</td>\n",
       "      <td>Grass</td>\n",
       "      <td>Poison</td>\n",
       "      <td>45</td>\n",
       "      <td>49</td>\n",
       "      <td>49</td>\n",
       "      <td>65</td>\n",
       "      <td>65</td>\n",
       "      <td>45</td>\n",
       "      <td>1</td>\n",
       "      <td>0</td>\n",
       "      <td>Grass-Poison</td>\n",
       "      <td>1</td>\n",
       "      <td>318</td>\n",
       "      <td>0</td>\n",
       "      <td>0</td>\n",
       "      <td>194</td>\n",
       "      <td>Mareep</td>\n",
       "      <td>Electric</td>\n",
       "      <td>NaN</td>\n",
       "      <td>55</td>\n",
       "      <td>40</td>\n",
       "      <td>40</td>\n",
       "      <td>65</td>\n",
       "      <td>45</td>\n",
       "      <td>35</td>\n",
       "      <td>2</td>\n",
       "      <td>0</td>\n",
       "      <td>NaN</td>\n",
       "      <td>0</td>\n",
       "      <td>280</td>\n",
       "      <td>0</td>\n",
       "      <td>0</td>\n",
       "      <td>1</td>\n",
       "    </tr>\n",
       "  </tbody>\n",
       "</table>\n",
       "</div>"
      ],
      "text/plain": [
       "   id_p1    name_p1 type1_p1 type2_p1  hp_p1  atk_p1  def_p1  spatk_p1  \\\n",
       "0      1  Bulbasaur    Grass   Poison     45      49      49        65   \n",
       "1      1  Bulbasaur    Grass   Poison     45      49      49        65   \n",
       "2      1  Bulbasaur    Grass   Poison     45      49      49        65   \n",
       "3      1  Bulbasaur    Grass   Poison     45      49      49        65   \n",
       "4      1  Bulbasaur    Grass   Poison     45      49      49        65   \n",
       "\n",
       "   spdef_p1  spd_p1  gen_p1  legendary_p1 type_combo_p1  two_type_p1  \\\n",
       "0        65      45       1             0  Grass-Poison            1   \n",
       "1        65      45       1             0  Grass-Poison            1   \n",
       "2        65      45       1             0  Grass-Poison            1   \n",
       "3        65      45       1             0  Grass-Poison            1   \n",
       "4        65      45       1             0  Grass-Poison            1   \n",
       "\n",
       "   stat_total_p1  mega_p1  mega_leg_p1  id_p2                name_p2  \\\n",
       "0            318        0            0    679               Accelgor   \n",
       "1            318        0            0     43                 Vulpix   \n",
       "2            318        0            0    162              Dragonite   \n",
       "3            318        0            0    714  Keldeo Ordinary Forme   \n",
       "4            318        0            0    194                 Mareep   \n",
       "\n",
       "   type1_p2  type2_p2  hp_p2  atk_p2  def_p2  spatk_p2  spdef_p2  spd_p2  \\\n",
       "0       Bug       NaN     80      70      40       100        60     145   \n",
       "1      Fire       NaN     38      41      40        50        65      65   \n",
       "2    Dragon    Flying     91     134      95       100       100      80   \n",
       "3     Water  Fighting     91      72      90       129        90     108   \n",
       "4  Electric       NaN     55      40      40        65        45      35   \n",
       "\n",
       "   gen_p2  legendary_p2   type_combo_p2  two_type_p2  stat_total_p2  mega_p2  \\\n",
       "0       5             0             NaN            0            495        0   \n",
       "1       1             0             NaN            0            299        0   \n",
       "2       1             0   Dragon-Flying            1            600        0   \n",
       "3       5             0  Water-Fighting            1            580        0   \n",
       "4       2             0             NaN            0            280        0   \n",
       "\n",
       "   mega_leg_p2  p1_winner  \n",
       "0            0          0  \n",
       "1            0          0  \n",
       "2            0          0  \n",
       "3            0          0  \n",
       "4            0          1  "
      ]
     },
     "execution_count": 70,
     "metadata": {},
     "output_type": "execute_result"
    }
   ],
   "source": [
    "battles = pd.read_csv('data/pokemon_battle_final.csv').drop('Unnamed: 0', axis=1)\n",
    "print(battles.shape)\n",
    "battles.head()"
   ]
  },
  {
   "cell_type": "code",
   "execution_count": 71,
   "metadata": {},
   "outputs": [],
   "source": [
    "# palette to match Pokemon types to colors from the games\n",
    "color_dict = {'Normal':'#A8A77A', 'Fire':'#EE8130', 'Water':'#6390F0', 'Electric':'#FFF200', 'Grass':'#7AC74C',\n",
    "              'Ice':'#96D9D6', 'Fighting':'#C22E28', 'Poison':'#A33EA1', 'Ground':'#E2BF65', 'Flying':'#A98FF3', \n",
    "              'Psychic': '#F95587', 'Bug':'#A6B91A', 'Rock':'#B6A136', 'Ghost':'#735797', 'Dragon':'#6F35FC',\n",
    "              'Dark':'#705746', 'Steel':'#B7B7CE', 'Fairy':'#D685AD'}"
   ]
  },
  {
   "cell_type": "markdown",
   "metadata": {},
   "source": [
    "## Winners/Losers Characteristics ##"
   ]
  },
  {
   "cell_type": "markdown",
   "metadata": {},
   "source": [
    "### Stat Total Analysis ###"
   ]
  },
  {
   "cell_type": "code",
   "execution_count": 72,
   "metadata": {},
   "outputs": [
    {
     "data": {
      "text/plain": [
       "0    0.52798\n",
       "1    0.47202\n",
       "Name: p1_winner, dtype: float64"
      ]
     },
     "execution_count": 72,
     "metadata": {},
     "output_type": "execute_result"
    }
   ],
   "source": [
    "battles.p1_winner.value_counts(normalize=True)"
   ]
  },
  {
   "cell_type": "code",
   "execution_count": 73,
   "metadata": {},
   "outputs": [],
   "source": [
    "temp = battles.copy()"
   ]
  },
  {
   "cell_type": "code",
   "execution_count": 74,
   "metadata": {},
   "outputs": [],
   "source": [
    "temp['stat_diff'] = temp.stat_total_p1 - temp.stat_total_p2"
   ]
  },
  {
   "cell_type": "code",
   "execution_count": 75,
   "metadata": {
    "scrolled": true
   },
   "outputs": [
    {
     "data": {
      "text/html": [
       "<div>\n",
       "<style scoped>\n",
       "    .dataframe tbody tr th:only-of-type {\n",
       "        vertical-align: middle;\n",
       "    }\n",
       "\n",
       "    .dataframe tbody tr th {\n",
       "        vertical-align: top;\n",
       "    }\n",
       "\n",
       "    .dataframe thead th {\n",
       "        text-align: right;\n",
       "    }\n",
       "</style>\n",
       "<table border=\"1\" class=\"dataframe\">\n",
       "  <thead>\n",
       "    <tr style=\"text-align: right;\">\n",
       "      <th></th>\n",
       "      <th>id_p1</th>\n",
       "      <th>name_p1</th>\n",
       "      <th>type1_p1</th>\n",
       "      <th>type2_p1</th>\n",
       "      <th>hp_p1</th>\n",
       "      <th>atk_p1</th>\n",
       "      <th>def_p1</th>\n",
       "      <th>spatk_p1</th>\n",
       "      <th>spdef_p1</th>\n",
       "      <th>spd_p1</th>\n",
       "      <th>gen_p1</th>\n",
       "      <th>legendary_p1</th>\n",
       "      <th>type_combo_p1</th>\n",
       "      <th>two_type_p1</th>\n",
       "      <th>stat_total_p1</th>\n",
       "      <th>mega_p1</th>\n",
       "      <th>mega_leg_p1</th>\n",
       "      <th>id_p2</th>\n",
       "      <th>name_p2</th>\n",
       "      <th>type1_p2</th>\n",
       "      <th>type2_p2</th>\n",
       "      <th>hp_p2</th>\n",
       "      <th>atk_p2</th>\n",
       "      <th>def_p2</th>\n",
       "      <th>spatk_p2</th>\n",
       "      <th>spdef_p2</th>\n",
       "      <th>spd_p2</th>\n",
       "      <th>gen_p2</th>\n",
       "      <th>legendary_p2</th>\n",
       "      <th>type_combo_p2</th>\n",
       "      <th>two_type_p2</th>\n",
       "      <th>stat_total_p2</th>\n",
       "      <th>mega_p2</th>\n",
       "      <th>mega_leg_p2</th>\n",
       "      <th>p1_winner</th>\n",
       "      <th>stat_diff</th>\n",
       "    </tr>\n",
       "  </thead>\n",
       "  <tbody>\n",
       "    <tr>\n",
       "      <th>0</th>\n",
       "      <td>1</td>\n",
       "      <td>Bulbasaur</td>\n",
       "      <td>Grass</td>\n",
       "      <td>Poison</td>\n",
       "      <td>45</td>\n",
       "      <td>49</td>\n",
       "      <td>49</td>\n",
       "      <td>65</td>\n",
       "      <td>65</td>\n",
       "      <td>45</td>\n",
       "      <td>1</td>\n",
       "      <td>0</td>\n",
       "      <td>Grass-Poison</td>\n",
       "      <td>1</td>\n",
       "      <td>318</td>\n",
       "      <td>0</td>\n",
       "      <td>0</td>\n",
       "      <td>679</td>\n",
       "      <td>Accelgor</td>\n",
       "      <td>Bug</td>\n",
       "      <td>NaN</td>\n",
       "      <td>80</td>\n",
       "      <td>70</td>\n",
       "      <td>40</td>\n",
       "      <td>100</td>\n",
       "      <td>60</td>\n",
       "      <td>145</td>\n",
       "      <td>5</td>\n",
       "      <td>0</td>\n",
       "      <td>NaN</td>\n",
       "      <td>0</td>\n",
       "      <td>495</td>\n",
       "      <td>0</td>\n",
       "      <td>0</td>\n",
       "      <td>0</td>\n",
       "      <td>-177</td>\n",
       "    </tr>\n",
       "    <tr>\n",
       "      <th>1</th>\n",
       "      <td>1</td>\n",
       "      <td>Bulbasaur</td>\n",
       "      <td>Grass</td>\n",
       "      <td>Poison</td>\n",
       "      <td>45</td>\n",
       "      <td>49</td>\n",
       "      <td>49</td>\n",
       "      <td>65</td>\n",
       "      <td>65</td>\n",
       "      <td>45</td>\n",
       "      <td>1</td>\n",
       "      <td>0</td>\n",
       "      <td>Grass-Poison</td>\n",
       "      <td>1</td>\n",
       "      <td>318</td>\n",
       "      <td>0</td>\n",
       "      <td>0</td>\n",
       "      <td>43</td>\n",
       "      <td>Vulpix</td>\n",
       "      <td>Fire</td>\n",
       "      <td>NaN</td>\n",
       "      <td>38</td>\n",
       "      <td>41</td>\n",
       "      <td>40</td>\n",
       "      <td>50</td>\n",
       "      <td>65</td>\n",
       "      <td>65</td>\n",
       "      <td>1</td>\n",
       "      <td>0</td>\n",
       "      <td>NaN</td>\n",
       "      <td>0</td>\n",
       "      <td>299</td>\n",
       "      <td>0</td>\n",
       "      <td>0</td>\n",
       "      <td>0</td>\n",
       "      <td>19</td>\n",
       "    </tr>\n",
       "    <tr>\n",
       "      <th>2</th>\n",
       "      <td>1</td>\n",
       "      <td>Bulbasaur</td>\n",
       "      <td>Grass</td>\n",
       "      <td>Poison</td>\n",
       "      <td>45</td>\n",
       "      <td>49</td>\n",
       "      <td>49</td>\n",
       "      <td>65</td>\n",
       "      <td>65</td>\n",
       "      <td>45</td>\n",
       "      <td>1</td>\n",
       "      <td>0</td>\n",
       "      <td>Grass-Poison</td>\n",
       "      <td>1</td>\n",
       "      <td>318</td>\n",
       "      <td>0</td>\n",
       "      <td>0</td>\n",
       "      <td>162</td>\n",
       "      <td>Dragonite</td>\n",
       "      <td>Dragon</td>\n",
       "      <td>Flying</td>\n",
       "      <td>91</td>\n",
       "      <td>134</td>\n",
       "      <td>95</td>\n",
       "      <td>100</td>\n",
       "      <td>100</td>\n",
       "      <td>80</td>\n",
       "      <td>1</td>\n",
       "      <td>0</td>\n",
       "      <td>Dragon-Flying</td>\n",
       "      <td>1</td>\n",
       "      <td>600</td>\n",
       "      <td>0</td>\n",
       "      <td>0</td>\n",
       "      <td>0</td>\n",
       "      <td>-282</td>\n",
       "    </tr>\n",
       "    <tr>\n",
       "      <th>3</th>\n",
       "      <td>1</td>\n",
       "      <td>Bulbasaur</td>\n",
       "      <td>Grass</td>\n",
       "      <td>Poison</td>\n",
       "      <td>45</td>\n",
       "      <td>49</td>\n",
       "      <td>49</td>\n",
       "      <td>65</td>\n",
       "      <td>65</td>\n",
       "      <td>45</td>\n",
       "      <td>1</td>\n",
       "      <td>0</td>\n",
       "      <td>Grass-Poison</td>\n",
       "      <td>1</td>\n",
       "      <td>318</td>\n",
       "      <td>0</td>\n",
       "      <td>0</td>\n",
       "      <td>714</td>\n",
       "      <td>Keldeo Ordinary Forme</td>\n",
       "      <td>Water</td>\n",
       "      <td>Fighting</td>\n",
       "      <td>91</td>\n",
       "      <td>72</td>\n",
       "      <td>90</td>\n",
       "      <td>129</td>\n",
       "      <td>90</td>\n",
       "      <td>108</td>\n",
       "      <td>5</td>\n",
       "      <td>0</td>\n",
       "      <td>Water-Fighting</td>\n",
       "      <td>1</td>\n",
       "      <td>580</td>\n",
       "      <td>0</td>\n",
       "      <td>0</td>\n",
       "      <td>0</td>\n",
       "      <td>-262</td>\n",
       "    </tr>\n",
       "    <tr>\n",
       "      <th>4</th>\n",
       "      <td>1</td>\n",
       "      <td>Bulbasaur</td>\n",
       "      <td>Grass</td>\n",
       "      <td>Poison</td>\n",
       "      <td>45</td>\n",
       "      <td>49</td>\n",
       "      <td>49</td>\n",
       "      <td>65</td>\n",
       "      <td>65</td>\n",
       "      <td>45</td>\n",
       "      <td>1</td>\n",
       "      <td>0</td>\n",
       "      <td>Grass-Poison</td>\n",
       "      <td>1</td>\n",
       "      <td>318</td>\n",
       "      <td>0</td>\n",
       "      <td>0</td>\n",
       "      <td>194</td>\n",
       "      <td>Mareep</td>\n",
       "      <td>Electric</td>\n",
       "      <td>NaN</td>\n",
       "      <td>55</td>\n",
       "      <td>40</td>\n",
       "      <td>40</td>\n",
       "      <td>65</td>\n",
       "      <td>45</td>\n",
       "      <td>35</td>\n",
       "      <td>2</td>\n",
       "      <td>0</td>\n",
       "      <td>NaN</td>\n",
       "      <td>0</td>\n",
       "      <td>280</td>\n",
       "      <td>0</td>\n",
       "      <td>0</td>\n",
       "      <td>1</td>\n",
       "      <td>38</td>\n",
       "    </tr>\n",
       "  </tbody>\n",
       "</table>\n",
       "</div>"
      ],
      "text/plain": [
       "   id_p1    name_p1 type1_p1 type2_p1  hp_p1  atk_p1  def_p1  spatk_p1  \\\n",
       "0      1  Bulbasaur    Grass   Poison     45      49      49        65   \n",
       "1      1  Bulbasaur    Grass   Poison     45      49      49        65   \n",
       "2      1  Bulbasaur    Grass   Poison     45      49      49        65   \n",
       "3      1  Bulbasaur    Grass   Poison     45      49      49        65   \n",
       "4      1  Bulbasaur    Grass   Poison     45      49      49        65   \n",
       "\n",
       "   spdef_p1  spd_p1  gen_p1  legendary_p1 type_combo_p1  two_type_p1  \\\n",
       "0        65      45       1             0  Grass-Poison            1   \n",
       "1        65      45       1             0  Grass-Poison            1   \n",
       "2        65      45       1             0  Grass-Poison            1   \n",
       "3        65      45       1             0  Grass-Poison            1   \n",
       "4        65      45       1             0  Grass-Poison            1   \n",
       "\n",
       "   stat_total_p1  mega_p1  mega_leg_p1  id_p2                name_p2  \\\n",
       "0            318        0            0    679               Accelgor   \n",
       "1            318        0            0     43                 Vulpix   \n",
       "2            318        0            0    162              Dragonite   \n",
       "3            318        0            0    714  Keldeo Ordinary Forme   \n",
       "4            318        0            0    194                 Mareep   \n",
       "\n",
       "   type1_p2  type2_p2  hp_p2  atk_p2  def_p2  spatk_p2  spdef_p2  spd_p2  \\\n",
       "0       Bug       NaN     80      70      40       100        60     145   \n",
       "1      Fire       NaN     38      41      40        50        65      65   \n",
       "2    Dragon    Flying     91     134      95       100       100      80   \n",
       "3     Water  Fighting     91      72      90       129        90     108   \n",
       "4  Electric       NaN     55      40      40        65        45      35   \n",
       "\n",
       "   gen_p2  legendary_p2   type_combo_p2  two_type_p2  stat_total_p2  mega_p2  \\\n",
       "0       5             0             NaN            0            495        0   \n",
       "1       1             0             NaN            0            299        0   \n",
       "2       1             0   Dragon-Flying            1            600        0   \n",
       "3       5             0  Water-Fighting            1            580        0   \n",
       "4       2             0             NaN            0            280        0   \n",
       "\n",
       "   mega_leg_p2  p1_winner  stat_diff  \n",
       "0            0          0       -177  \n",
       "1            0          0         19  \n",
       "2            0          0       -282  \n",
       "3            0          0       -262  \n",
       "4            0          1         38  "
      ]
     },
     "execution_count": 75,
     "metadata": {},
     "output_type": "execute_result"
    }
   ],
   "source": [
    "temp.head()"
   ]
  },
  {
   "cell_type": "code",
   "execution_count": 76,
   "metadata": {
    "scrolled": false
   },
   "outputs": [
    {
     "data": {
      "image/png": "[encoded data removed]",
      "text/plain": [
       "<Figure size 1080x576 with 1 Axes>"
      ]
     },
     "metadata": {},
     "output_type": "display_data"
    }
   ],
   "source": [
    "# distribution of difference in stat_total between Pokemon 1 and Pokemon 2\n",
    "plt.figure(figsize=(15,8))\n",
    "\n",
    "sns.distplot(temp[temp.p1_winner==1].stat_diff)\n",
    "plt.title('Stat Total Difference Between Pokemon 1 and Pokemon 2', color='black', size=14)\n",
    "plt.xlabel('Difference in Stat Total Between Pokemon 1 and Pokemon 2', color='black', size=12)\n",
    "plt.ylabel('Frequency', color='black', size=12)\n",
    "plt.show()"
   ]
  },
  {
   "cell_type": "markdown",
   "metadata": {},
   "source": [
    "If a Pokemon wins, they generally have a greater `stat_total` than the opposing Pokemon. However, the histogram above shows that a Pokemon can still win even if they have a lower `stat_total` than their opponent. This tells us that winners are determined by more than a Pokemon's `stat_total`."
   ]
  },
  {
   "cell_type": "markdown",
   "metadata": {},
   "source": [
    "Is the difference in `stat_total` between winning and losing Pokemon significant?\n",
    "\n",
    "- $H_{0}: \\mu_{win} = \\mu_{lose}$\n",
    "- $H_{0}: \\mu_{win} \\neq \\mu_{lose}$"
   ]
  },
  {
   "cell_type": "code",
   "execution_count": 77,
   "metadata": {},
   "outputs": [
    {
     "data": {
      "text/plain": [
       "Ttest_indResult(statistic=80.6386911300052, pvalue=0.0)"
      ]
     },
     "execution_count": 77,
     "metadata": {},
     "output_type": "execute_result"
    }
   ],
   "source": [
    "stats.ttest_ind(temp[temp.p1_winner==1].stat_total_p1, temp[temp.p1_winner==0].stat_total_p1)"
   ]
  },
  {
   "cell_type": "code",
   "execution_count": 79,
   "metadata": {},
   "outputs": [
    {
     "data": {
      "text/plain": [
       "p1_winner\n",
       "0    397.011781\n",
       "1    478.809288\n",
       "Name: stat_total_p1, dtype: float64"
      ]
     },
     "execution_count": 79,
     "metadata": {},
     "output_type": "execute_result"
    }
   ],
   "source": [
    "temp.groupby('p1_winner').mean().stat_total_p1"
   ]
  },
  {
   "cell_type": "markdown",
   "metadata": {},
   "source": [
    "Using $\\alpha=0.05$, we conclude that there is a statistically significant difference in the mean stat difference between the two Pokemon when Pokemon 1 wins compared to when it loses. We can examine this further by looking at the distribution of `stat_total` between both Pokemon for each match. "
   ]
  },
  {
   "cell_type": "markdown",
   "metadata": {},
   "source": [
    "### Type Analysis ###"
   ]
  },
  {
   "cell_type": "markdown",
   "metadata": {},
   "source": [
    "**Two-type Pokemon in Battle**\n",
    "\n",
    "In the pokemon_stats_eda, we determined that two-type Pokemon are stronger than one-type Pokemon. Below, we check to see if two-type Pokemon win at higher rates than one-type Pokemon. "
   ]
  },
  {
   "cell_type": "code",
   "execution_count": 49,
   "metadata": {
    "scrolled": false
   },
   "outputs": [
    {
     "data": {
      "image/png": "[encoded data removed]",
      "text/plain": [
       "<Figure size 1080x576 with 1 Axes>"
      ]
     },
     "metadata": {},
     "output_type": "display_data"
    }
   ],
   "source": [
    "plt.figure(figsize=(15,8))\n",
    "\n",
    "sns.barplot(x=['One-type', 'Two-type'], y=[temp[temp.two_type_p1==0].p1_winner.value_counts(normalize=True)[1],\n",
    "                                           temp[temp.two_type_p1==1].p1_winner.value_counts(normalize=True)[1]])\n",
    "plt.xlabel('Pokemon 1 Type')\n",
    "plt.ylabel('Win Percent')\n",
    "plt.title('Pokemon 1 Win Percent by Type', size=12)\n",
    "plt.show()"
   ]
  },
  {
   "cell_type": "code",
   "execution_count": 50,
   "metadata": {},
   "outputs": [
    {
     "data": {
      "text/plain": [
       "0.5036774615888174"
      ]
     },
     "execution_count": 50,
     "metadata": {},
     "output_type": "execute_result"
    }
   ],
   "source": [
    "temp[temp.two_type_p1==1].p1_winner.value_counts(normalize=True)[1]"
   ]
  },
  {
   "cell_type": "markdown",
   "metadata": {},
   "source": [
    "**Is win count independent of Pokemon type number?**\n",
    "\n",
    "- $H_{0}:$ Pokemon type number and win count are independent\n",
    "- $H_{A}:$ Pokemon type number and win count are dependent"
   ]
  },
  {
   "cell_type": "code",
   "execution_count": 51,
   "metadata": {},
   "outputs": [],
   "source": [
    "one_type_wins = temp[temp.two_type_p1==0].p1_winner.value_counts()\n",
    "two_type_wins = temp[temp.two_type_p1==1].p1_winner.value_counts()"
   ]
  },
  {
   "cell_type": "code",
   "execution_count": 52,
   "metadata": {},
   "outputs": [
    {
     "name": "stdout",
     "output_type": "stream",
     "text": [
      "[[13510, 10521], [12889, 13080]]\n",
      "dof=1\n",
      "[[12687.88738 11343.11262]\n",
      " [13711.11262 12257.88738]]\n"
     ]
    }
   ],
   "source": [
    "# create contingency table\n",
    "table = [[one_type_wins[0], one_type_wins[1]],\n",
    "         [two_type_wins[0], two_type_wins[1]]]\n",
    "\n",
    "stat, p, dof, expected = stats.chi2_contingency(table)\n",
    "print(table)\n",
    "print('dof=%d' % dof)\n",
    "print(expected)"
   ]
  },
  {
   "cell_type": "code",
   "execution_count": 53,
   "metadata": {
    "scrolled": true
   },
   "outputs": [
    {
     "name": "stdout",
     "output_type": "stream",
     "text": [
      "probability=0.950, critical=3.841, stat=217.020\n",
      "Dependent (reject H0)\n"
     ]
    }
   ],
   "source": [
    "# interpret the ciritical stat\n",
    "prob = 0.95\n",
    "critical = stats.chi2.ppf(prob, dof)\n",
    "\n",
    "print('probability=%.3f, critical=%.3f, stat=%.3f' % (prob, critical, stat))\n",
    "if abs(stat) >= critical:\n",
    "    print('Dependent (reject H0)')\n",
    "else:\n",
    "    print('Independent (fail to reject H0)')"
   ]
  },
  {
   "cell_type": "markdown",
   "metadata": {},
   "source": [
    "Our chi-squared test shows us that win count is dependent on whether a Pokemon is one-type or two-type. In the bar chart above, we can see that one-type Pokemon only win about 44% of the time, while two-type Pokemon win about 50% of the time. "
   ]
  },
  {
   "cell_type": "markdown",
   "metadata": {},
   "source": [
    "**Best type in Battle**\n",
    "\n",
    "In the pokemon_stats_eda, we determined that Dragon was the strongest type while Bug was the weakest. Do Dragon-type Pokemon win more often than any other type?"
   ]
  },
  {
   "cell_type": "code",
   "execution_count": 54,
   "metadata": {},
   "outputs": [],
   "source": [
    "# create new Data Frame to better analyze win percentages by type\n",
    "types = temp.type1_p1.unique()\n",
    "matches_by_type = {'type': list(types), \n",
    "                   'losses': [temp[temp.type1_p1==t].p1_winner.value_counts()[0] for t in types],\n",
    "                   'wins': [temp[temp.type1_p1==t].p1_winner.value_counts()[1] for t in types]}"
   ]
  },
  {
   "cell_type": "code",
   "execution_count": 55,
   "metadata": {},
   "outputs": [],
   "source": [
    "# create new columns\n",
    "wins_by_type = pd.DataFrame.from_dict(matches_by_type)\n",
    "wins_by_type['match_total'] = wins_by_type.sum(axis=1)\n",
    "wins_by_type['match_percent'] = wins_by_type.match_total / wins_by_type.match_total.sum(axis=0)\n",
    "wins_by_type['win_percent'] = wins_by_type['wins'] / wins_by_type['match_total']"
   ]
  },
  {
   "cell_type": "code",
   "execution_count": 56,
   "metadata": {},
   "outputs": [
    {
     "data": {
      "image/png": "[encoded data removed]",
      "text/plain": [
       "<Figure size 1584x576 with 2 Axes>"
      ]
     },
     "metadata": {},
     "output_type": "display_data"
    }
   ],
   "source": [
    "# plot matches and win percent for each type\n",
    "fig, (ax1, ax2) = plt.subplots(1, 2, figsize=(22, 8))\n",
    "\n",
    "sns.barplot(x='type', y='match_percent', data=wins_by_type.sort_values('match_percent', ascending=False), \n",
    "            palette=color_dict, ax=ax1)\n",
    "ax1.set_title('Number of Matches by Pokemon Type', size=14)\n",
    "ax1.set_xlabel('Type', size=12)\n",
    "ax1.set_ylabel('Match Percent', size=12)\n",
    "\n",
    "sns.barplot(x='type', y='win_percent', data=wins_by_type.sort_values('win_percent', ascending=False), \n",
    "            palette=color_dict, ax=ax2)\n",
    "ax2.set_title('Win Percent by Pokemon Type', size=14)\n",
    "ax2.set_xlabel('Type', size=12)\n",
    "ax2.set_ylabel('Win Percent', size=12)\n",
    "plt.show()"
   ]
  },
  {
   "cell_type": "markdown",
   "metadata": {},
   "source": [
    "The above boxplots compare a Pokemon's match count with their win percent. We can see that the number of matches correspond to occurance of that type. In essence, since Water, Normal, Bug, Grass, and Psychic are the most common types, they participate in the most matches. However, we can also see that win percentages do not correspond with overall strength of a type (as indicated by `stat_total`), though Dragon-type  is the strongest overall type and leads in win percentages. Here, Flying has the highest win-percentage but less than 1% of Pokemon have Flying as their primary type and those that do are either legendary Pokemon or have a secondary Dragon-type which may have a greater effect. "
   ]
  },
  {
   "cell_type": "markdown",
   "metadata": {},
   "source": [
    "### Legendary vs Mega Pokemon ###"
   ]
  },
  {
   "cell_type": "code",
   "execution_count": 57,
   "metadata": {
    "scrolled": true
   },
   "outputs": [
    {
     "name": "stdout",
     "output_type": "stream",
     "text": [
      "Regular Pokemon Win Percent: 0.4319046293719269\n",
      "Mega Pokemon Win Percent: 0.6993504484998453\n",
      "Legendary Pokemon Win Percent: 0.7577092511013216\n",
      "Mega-Legendary Pokemon: 0.8689655172413793\n"
     ]
    }
   ],
   "source": [
    "reg_wins = temp[(temp.mega_p1==0)&(temp.legendary_p1==0)&(temp.mega_leg_p1==0)].mean().p1_winner\n",
    "mega_wins = temp[temp.mega_p1==1].mean().p1_winner\n",
    "leg_wins = temp[temp.legendary_p1==1].mean().p1_winner\n",
    "mega_leg_wins = temp[temp.mega_leg_p1==1].mean().p1_winner\n",
    "\n",
    "\n",
    "print('Regular Pokemon Win Percent:', reg_wins)\n",
    "print('Mega Pokemon Win Percent:', mega_wins)\n",
    "print('Legendary Pokemon Win Percent:', leg_wins) \n",
    "print('Mega-Legendary Pokemon:', mega_leg_wins)"
   ]
  },
  {
   "cell_type": "code",
   "execution_count": 64,
   "metadata": {
    "scrolled": false
   },
   "outputs": [
    {
     "data": {
      "image/png": "[encoded data removed]",
      "text/plain": [
       "<Figure size 1080x576 with 1 Axes>"
      ]
     },
     "metadata": {},
     "output_type": "display_data"
    }
   ],
   "source": [
    "plt.figure(figsize=(15,8))\n",
    "sns.barplot(x=['Regular', 'Mega', 'Legendary', 'Mega-Legendary'], y=[reg_wins, mega_wins, leg_wins, mega_leg_wins],\n",
    "            palette='hls')\n",
    "plt.xlabel('Pokemon 1 Class')\n",
    "plt.ylabel('Win Percent')\n",
    "plt.title('Pokemon 1 Win Percent by Class', size=12)\n",
    "plt.show()"
   ]
  },
  {
   "cell_type": "markdown",
   "metadata": {},
   "source": [
    "**Is win count independent of Pokemon status?**\n",
    "\n",
    "- $H_{0}:$ Pokemon status and win count are independent\n",
    "- $H_{A}:$ Pokemon status and win count are dependent"
   ]
  },
  {
   "cell_type": "code",
   "execution_count": 59,
   "metadata": {},
   "outputs": [],
   "source": [
    "reg = temp[(temp.mega_p1==0)&(temp.legendary_p1==0)&(temp.mega_leg_p1==0)].p1_winner.value_counts()\n",
    "mega = temp[temp.mega_p1==1].p1_winner.value_counts()\n",
    "leg = temp[temp.legendary_p1==1].p1_winner.value_counts()\n",
    "mega_leg = temp[temp.mega_leg_p1==1].p1_winner.value_counts()"
   ]
  },
  {
   "cell_type": "code",
   "execution_count": 60,
   "metadata": {},
   "outputs": [
    {
     "name": "stdout",
     "output_type": "stream",
     "text": [
      "[[24494, 18622], [972, 2261], [990, 3096], [57, 378]]\n",
      "dof=3\n",
      "[[22471.68287792 20644.31712208]\n",
      " [ 1685.01138195  1547.98861805]\n",
      " [ 2129.58753686  1956.41246314]\n",
      " [  226.71820326   208.28179674]]\n"
     ]
    }
   ],
   "source": [
    "# create contingency table\n",
    "table = [[reg[0], reg[1]],\n",
    "         [mega[0], mega[1]],\n",
    "         [leg[0], leg[1]],\n",
    "         [mega_leg[0], mega_leg[1]]]\n",
    "\n",
    "stat, p, dof, expected = stats.chi2_contingency(table)\n",
    "print(table)\n",
    "print('dof=%d' % dof)\n",
    "print(expected)"
   ]
  },
  {
   "cell_type": "code",
   "execution_count": 61,
   "metadata": {},
   "outputs": [
    {
     "name": "stdout",
     "output_type": "stream",
     "text": [
      "probability=0.950, critical=7.815, stat=2549.187\n",
      "Dependent (reject H0)\n"
     ]
    }
   ],
   "source": [
    "# interpret the ciritical stat\n",
    "prob = 0.95\n",
    "critical = stats.chi2.ppf(prob, dof)\n",
    "\n",
    "print('probability=%.3f, critical=%.3f, stat=%.3f' % (prob, critical, stat))\n",
    "if abs(stat) >= critical:\n",
    "    print('Dependent (reject H0)')\n",
    "else:\n",
    "    print('Independent (fail to reject H0)')"
   ]
  },
  {
   "cell_type": "code",
   "execution_count": 62,
   "metadata": {},
   "outputs": [
    {
     "data": {
      "text/plain": [
       "0.0"
      ]
     },
     "execution_count": 62,
     "metadata": {},
     "output_type": "execute_result"
    }
   ],
   "source": [
    "p"
   ]
  },
  {
   "cell_type": "markdown",
   "metadata": {},
   "source": [
    "Our chi-squared test shows us that win count is dependent on whether a Pokemon status. In the bar chart above, we can see that as the status of the Pokemon gets better, its win percentage increases. Regular Pokemon have the lowest win percentage (about 43%) while Mega-Legendary Pokemon have the highest win percentage (about 87%)."
   ]
  },
  {
   "cell_type": "code",
   "execution_count": null,
   "metadata": {},
   "outputs": [],
   "source": []
  }
 ],
 "metadata": {
  "kernelspec": {
   "display_name": "Python 3",
   "language": "python",
   "name": "python3"
  },
  "language_info": {
   "codemirror_mode": {
    "name": "ipython",
    "version": 3
   },
   "file_extension": ".py",
   "mimetype": "text/x-python",
   "name": "python",
   "nbconvert_exporter": "python",
   "pygments_lexer": "ipython3",
   "version": "3.8.3"
  }
 },
 "nbformat": 4,
 "nbformat_minor": 4
}
